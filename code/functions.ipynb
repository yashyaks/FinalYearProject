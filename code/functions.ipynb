{
 "cells": [
  {
   "cell_type": "code",
   "execution_count": 1,
   "id": "7afbc01c",
   "metadata": {},
   "outputs": [
    {
     "name": "stdout",
     "output_type": "stream",
     "text": [
      "Requirement already satisfied: mysql-connector-python in c:\\users\\hjain\\appdata\\local\\programs\\python\\python310\\lib\\site-packages (8.3.0)\n",
      "Note: you may need to restart the kernel to use updated packages.\n"
     ]
    },
    {
     "name": "stderr",
     "output_type": "stream",
     "text": [
      "WARNING: Ignoring invalid distribution -ensorflow-intel (c:\\users\\hjain\\appdata\\local\\programs\\python\\python310\\lib\\site-packages)\n",
      "WARNING: Ignoring invalid distribution -rotobuf (c:\\users\\hjain\\appdata\\local\\programs\\python\\python310\\lib\\site-packages)\n",
      "WARNING: Ignoring invalid distribution -ensorflow-intel (c:\\users\\hjain\\appdata\\local\\programs\\python\\python310\\lib\\site-packages)\n",
      "WARNING: Ignoring invalid distribution -rotobuf (c:\\users\\hjain\\appdata\\local\\programs\\python\\python310\\lib\\site-packages)\n",
      "\n",
      "[notice] A new release of pip is available: 24.0 -> 24.1.2\n",
      "[notice] To update, run: python.exe -m pip install --upgrade pip\n"
     ]
    }
   ],
   "source": [
    "pip install mysql-connector-python\n"
   ]
  },
  {
   "cell_type": "code",
   "execution_count": 2,
   "id": "42b7f87e",
   "metadata": {},
   "outputs": [
    {
     "name": "stdout",
     "output_type": "stream",
     "text": [
      "Connected to MySQL database\n"
     ]
    }
   ],
   "source": [
    "import mysql.connector\n",
    "\n",
    "def create_connection():\n",
    "    connection = mysql.connector.connect(\n",
    "        host='127.0.0.1',       # Localhost IP address\n",
    "        user='root',            # MySQL username\n",
    "        password='root',  # Replace with your MySQL root password\n",
    "        database='fleet_data'   # Replace with your database name\n",
    "    )\n",
    "    return connection\n",
    "\n",
    "# Example usage\n",
    "connection = create_connection()\n",
    "if connection.is_connected():\n",
    "    print(\"Connected to MySQL database\")\n",
    "connection.close()"
   ]
  },
  {
   "cell_type": "code",
   "execution_count": 7,
   "id": "583db287",
   "metadata": {},
   "outputs": [],
   "source": [
    "def check_sum_cost_by_id(connection,year):\n",
    "    cursor = connection.cursor()\n",
    "    query = \"\"\"\n",
    "    SELECT ID, SUM(`Cost ($)`) \n",
    "    FROM vehicles \n",
    "    WHERE Year = %s\n",
    "    GROUP BY ID\n",
    "    \"\"\"\n",
    "\n",
    "    cursor.execute(query, (year,))\n",
    "    records = cursor.fetchall()\n",
    "    return records\n"
   ]
  },
  {
   "cell_type": "code",
   "execution_count": 8,
   "id": "de7b59e4",
   "metadata": {},
   "outputs": [
    {
     "name": "stdout",
     "output_type": "stream",
     "text": [
      "ID: BEV_S1_2024, Total Cost: $177650.00\n",
      "ID: BEV_S2_2024, Total Cost: $258400.00\n",
      "ID: BEV_S4_2024, Total Cost: $375854.00\n",
      "ID: BEV_S3_2024, Total Cost: $293636.00\n",
      "ID: Diesel_S1_2024, Total Cost: $87550.00\n",
      "ID: Diesel_S2_2024, Total Cost: $107120.00\n",
      "ID: Diesel_S4_2024, Total Cost: $155810.00\n",
      "ID: Diesel_S3_2024, Total Cost: $121727.00\n",
      "ID: LNG_S1_2024, Total Cost: $103000.00\n",
      "ID: LNG_S2_2024, Total Cost: $136990.00\n",
      "ID: LNG_S4_2024, Total Cost: $199258.00\n",
      "ID: LNG_S3_2024, Total Cost: $155670.00\n"
     ]
    }
   ],
   "source": [
    "year = 2024 \n",
    "records = check_sum_cost_by_id(connection, year)\n",
    "\n",
    "for record in records:\n",
    "    print(f\"ID: {record[0]}, Total Cost: ${record[1]:.2f}\")"
   ]
  },
  {
   "cell_type": "code",
   "execution_count": null,
   "id": "50633120",
   "metadata": {},
   "outputs": [],
   "source": [
    "def insurance_cost(connection,year):\n",
    "    cursor = connection.cursor()\n",
    "    query = \"\"\"\n",
    "    SELECT ID, SUM(`Cost ($)`) \n",
    "    FROM vehicles \n",
    "    WHERE Year = %s\n",
    "    GROUP BY Year\n",
    "    \"\"\"\n",
    "    "
   ]
  }
 ],
 "metadata": {
  "kernelspec": {
   "display_name": "Python 3 (ipykernel)",
   "language": "python",
   "name": "python3"
  },
  "language_info": {
   "codemirror_mode": {
    "name": "ipython",
    "version": 3
   },
   "file_extension": ".py",
   "mimetype": "text/x-python",
   "name": "python",
   "nbconvert_exporter": "python",
   "pygments_lexer": "ipython3",
   "version": "3.10.4"
  }
 },
 "nbformat": 4,
 "nbformat_minor": 5
}
