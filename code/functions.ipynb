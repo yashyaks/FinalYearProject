{
 "cells": [
  {
   "cell_type": "code",
   "execution_count": 1,
   "id": "7afbc01c",
   "metadata": {},
   "outputs": [
    {
     "name": "stdout",
     "output_type": "stream",
     "text": [
      "Requirement already satisfied: mysql-connector-python in c:\\users\\hjain\\appdata\\local\\programs\\python\\python310\\lib\\site-packages (8.3.0)\n",
      "Note: you may need to restart the kernel to use updated packages.\n"
     ]
    },
    {
     "name": "stderr",
     "output_type": "stream",
     "text": [
      "WARNING: Ignoring invalid distribution -ensorflow-intel (c:\\users\\hjain\\appdata\\local\\programs\\python\\python310\\lib\\site-packages)\n",
      "WARNING: Ignoring invalid distribution -rotobuf (c:\\users\\hjain\\appdata\\local\\programs\\python\\python310\\lib\\site-packages)\n",
      "WARNING: Ignoring invalid distribution -ensorflow-intel (c:\\users\\hjain\\appdata\\local\\programs\\python\\python310\\lib\\site-packages)\n",
      "WARNING: Ignoring invalid distribution -rotobuf (c:\\users\\hjain\\appdata\\local\\programs\\python\\python310\\lib\\site-packages)\n",
      "\n",
      "[notice] A new release of pip is available: 24.0 -> 24.1.2\n",
      "[notice] To update, run: python.exe -m pip install --upgrade pip\n"
     ]
    }
   ],
   "source": [
    "pip install mysql-connector-python\n"
   ]
  },
  {
   "cell_type": "code",
   "execution_count": 2,
   "id": "42b7f87e",
   "metadata": {},
   "outputs": [
    {
     "name": "stdout",
     "output_type": "stream",
     "text": [
      "Connected to MySQL database\n"
     ]
    }
   ],
   "source": [
    "import mysql.connector\n",
    "\n",
    "def create_connection():\n",
    "    connection = mysql.connector.connect(\n",
    "        host='127.0.0.1',       # Localhost IP address\n",
    "        user='root',            # MySQL username\n",
    "        password='root',  # Replace with your MySQL root password\n",
    "        database='fleet_data'   # Replace with your database name\n",
    "    )\n",
    "    return connection\n",
    "\n",
    "# Example usage\n",
    "connection = create_connection()\n",
    "if connection.is_connected():\n",
    "    print(\"Connected to MySQL database\")\n",
    "connection.close()"
   ]
  },
  {
   "cell_type": "code",
   "execution_count": 7,
   "id": "583db287",
   "metadata": {},
   "outputs": [],
   "source": [
    "def check_sum_cost_by_id(connection,year):\n",
    "    cursor = connection.cursor()\n",
    "    query = \"\"\"\n",
    "    SELECT ID, SUM(`Cost ($)`) \n",
    "    FROM vehicles \n",
    "    WHERE Year = %s\n",
    "    GROUP BY ID\n",
    "    \"\"\"\n",
    "\n",
    "    cursor.execute(query, (year,))\n",
    "    records = cursor.fetchall()\n",
    "    return records\n"
   ]
  },
  {
   "cell_type": "code",
   "execution_count": 8,
   "id": "de7b59e4",
   "metadata": {},
   "outputs": [
    {
     "name": "stdout",
     "output_type": "stream",
     "text": [
      "ID: BEV_S1_2024, Total Cost: $177650.00\n",
      "ID: BEV_S2_2024, Total Cost: $258400.00\n",
      "ID: BEV_S4_2024, Total Cost: $375854.00\n",
      "ID: BEV_S3_2024, Total Cost: $293636.00\n",
      "ID: Diesel_S1_2024, Total Cost: $87550.00\n",
      "ID: Diesel_S2_2024, Total Cost: $107120.00\n",
      "ID: Diesel_S4_2024, Total Cost: $155810.00\n",
      "ID: Diesel_S3_2024, Total Cost: $121727.00\n",
      "ID: LNG_S1_2024, Total Cost: $103000.00\n",
      "ID: LNG_S2_2024, Total Cost: $136990.00\n",
      "ID: LNG_S4_2024, Total Cost: $199258.00\n",
      "ID: LNG_S3_2024, Total Cost: $155670.00\n"
     ]
    }
   ],
   "source": [
    "year = 2024 \n",
    "records = check_sum_cost_by_id(connection, year)\n",
    "\n",
    "for record in records:\n",
    "    print(f\"ID: {record[0]}, Total Cost: ${record[1]:.2f}\")"
   ]
  },
  {
   "cell_type": "code",
   "execution_count": 11,
   "id": "157ba4ae",
   "metadata": {},
   "outputs": [],
   "source": [
    "def insurance_cost_per_year(connection,year):\n",
    "    cursor = connection.cursor()\n",
    "    query = f\"\"\"\n",
    "    SELECT SUM(`Cost ($)`) \n",
    "    FROM vehicles \n",
    "    WHERE Year = {year}\n",
    "    GROUP BY Year\n",
    "    \"\"\"\n",
    "    cursor.execute(query, (year,))\n",
    "    records = cursor.fetchall()\n",
    "    return records\n",
    "    "
   ]
  },
  {
   "cell_type": "code",
   "execution_count": 26,
   "id": "8a14a14f",
   "metadata": {},
   "outputs": [],
   "source": [
    "def end_of_year(connection):\n",
    "    cursor = connection.cursor()\n",
    "    query = \"\"\"\n",
    "    SELECT Year from vehicles\n",
    "    \"\"\"\n",
    "    cursor.execute(query)\n",
    "    records = cursor.fetchall()\n",
    "    return records\n"
   ]
  },
  {
   "cell_type": "code",
   "execution_count": 47,
   "id": "0455eb3a",
   "metadata": {},
   "outputs": [],
   "source": [
    "def difference_year(yr,records):\n",
    "    diff = []\n",
    "    for i in range(len(records)):\n",
    "        diff.append(abs(records[i][0] - yr))\n",
    "    return diff"
   ]
  },
  {
   "cell_type": "code",
   "execution_count": 50,
   "id": "84868d91",
   "metadata": {},
   "outputs": [],
   "source": [
    "def insurance_cost(connection,diff):\n",
    "    cursor = connection.cursor()\n",
    "    query = f\"\"\"\n",
    "    SELECT `Insurance Cost %`\n",
    "    FROM cost_profiles\n",
    "    where End of Year = {diff}\n",
    "    \"\"\"\n",
    "    cursor.execute(query,(diff,))\n",
    "    insurance_records = cursor.fetchall()\n",
    "    return insurance_records"
   ]
  },
  {
   "cell_type": "code",
   "execution_count": 51,
   "id": "62cada64",
   "metadata": {},
   "outputs": [
    {
     "ename": "MySQLInterfaceError",
     "evalue": "Python type list cannot be converted",
     "output_type": "error",
     "traceback": [
      "\u001b[1;31m---------------------------------------------------------------------------\u001b[0m",
      "\u001b[1;31mMySQLInterfaceError\u001b[0m                       Traceback (most recent call last)",
      "Cell \u001b[1;32mIn[51], line 4\u001b[0m\n\u001b[0;32m      2\u001b[0m records \u001b[38;5;241m=\u001b[39m end_of_year(connection)\n\u001b[0;32m      3\u001b[0m diff \u001b[38;5;241m=\u001b[39m difference_year(yr, records)\n\u001b[1;32m----> 4\u001b[0m res \u001b[38;5;241m=\u001b[39m \u001b[43minsurance_cost\u001b[49m\u001b[43m(\u001b[49m\u001b[43mconnection\u001b[49m\u001b[43m,\u001b[49m\u001b[43m \u001b[49m\u001b[43mdiff\u001b[49m\u001b[43m)\u001b[49m\n\u001b[0;32m      5\u001b[0m \u001b[38;5;28mprint\u001b[39m(res)\n",
      "Cell \u001b[1;32mIn[50], line 8\u001b[0m, in \u001b[0;36minsurance_cost\u001b[1;34m(connection, diff)\u001b[0m\n\u001b[0;32m      2\u001b[0m cursor \u001b[38;5;241m=\u001b[39m connection\u001b[38;5;241m.\u001b[39mcursor()\n\u001b[0;32m      3\u001b[0m query \u001b[38;5;241m=\u001b[39m \u001b[38;5;124m\"\"\"\u001b[39m\n\u001b[0;32m      4\u001b[0m \u001b[38;5;124mSELECT `Insurance Cost \u001b[39m\u001b[38;5;124m%\u001b[39m\u001b[38;5;124m`\u001b[39m\n\u001b[0;32m      5\u001b[0m \u001b[38;5;124mFROM cost_profiles\u001b[39m\n\u001b[0;32m      6\u001b[0m \u001b[38;5;124mwhere End of Year = \u001b[39m\u001b[38;5;132;01m%s\u001b[39;00m\n\u001b[0;32m      7\u001b[0m \u001b[38;5;124m\u001b[39m\u001b[38;5;124m\"\"\"\u001b[39m\n\u001b[1;32m----> 8\u001b[0m \u001b[43mcursor\u001b[49m\u001b[38;5;241;43m.\u001b[39;49m\u001b[43mexecute\u001b[49m\u001b[43m(\u001b[49m\u001b[43mquery\u001b[49m\u001b[43m,\u001b[49m\u001b[43m(\u001b[49m\u001b[43mdiff\u001b[49m\u001b[43m,\u001b[49m\u001b[43m)\u001b[49m\u001b[43m)\u001b[49m\n\u001b[0;32m      9\u001b[0m insurance_records \u001b[38;5;241m=\u001b[39m cursor\u001b[38;5;241m.\u001b[39mfetchall()\n\u001b[0;32m     10\u001b[0m \u001b[38;5;28;01mreturn\u001b[39;00m insurance_records\n",
      "File \u001b[1;32m~\\AppData\\Local\\Programs\\Python\\Python310\\lib\\site-packages\\mysql\\connector\\cursor_cext.py:361\u001b[0m, in \u001b[0;36mCMySQLCursor.execute\u001b[1;34m(self, operation, params, multi)\u001b[0m\n\u001b[0;32m    358\u001b[0m     \u001b[38;5;28;01mraise\u001b[39;00m ProgrammingError(\u001b[38;5;28mstr\u001b[39m(err)) \u001b[38;5;28;01mfrom\u001b[39;00m \u001b[38;5;21;01merr\u001b[39;00m\n\u001b[0;32m    360\u001b[0m \u001b[38;5;28;01mif\u001b[39;00m params:\n\u001b[1;32m--> 361\u001b[0m     prepared \u001b[38;5;241m=\u001b[39m \u001b[38;5;28;43mself\u001b[39;49m\u001b[38;5;241;43m.\u001b[39;49m\u001b[43m_cnx\u001b[49m\u001b[38;5;241;43m.\u001b[39;49m\u001b[43mprepare_for_mysql\u001b[49m\u001b[43m(\u001b[49m\u001b[43mparams\u001b[49m\u001b[43m)\u001b[49m\n\u001b[0;32m    362\u001b[0m     \u001b[38;5;28;01mif\u001b[39;00m \u001b[38;5;28misinstance\u001b[39m(prepared, \u001b[38;5;28mdict\u001b[39m):\n\u001b[0;32m    363\u001b[0m         \u001b[38;5;28;01mfor\u001b[39;00m key, value \u001b[38;5;129;01min\u001b[39;00m prepared\u001b[38;5;241m.\u001b[39mitems():\n",
      "File \u001b[1;32m~\\AppData\\Local\\Programs\\Python\\Python310\\lib\\site-packages\\mysql\\connector\\connection_cext.py:830\u001b[0m, in \u001b[0;36mCMySQLConnection.prepare_for_mysql\u001b[1;34m(self, params)\u001b[0m\n\u001b[0;32m    821\u001b[0m         result \u001b[38;5;241m=\u001b[39m [\n\u001b[0;32m    822\u001b[0m             \u001b[38;5;28mself\u001b[39m\u001b[38;5;241m.\u001b[39mconverter\u001b[38;5;241m.\u001b[39mquote(\n\u001b[0;32m    823\u001b[0m                 \u001b[38;5;28mself\u001b[39m\u001b[38;5;241m.\u001b[39mconverter\u001b[38;5;241m.\u001b[39mescape(\n\u001b[1;32m   (...)\u001b[0m\n\u001b[0;32m    827\u001b[0m             \u001b[38;5;28;01mfor\u001b[39;00m value \u001b[38;5;129;01min\u001b[39;00m params\n\u001b[0;32m    828\u001b[0m         ]\n\u001b[0;32m    829\u001b[0m     \u001b[38;5;28;01melse\u001b[39;00m:\n\u001b[1;32m--> 830\u001b[0m         result \u001b[38;5;241m=\u001b[39m \u001b[38;5;28;43mself\u001b[39;49m\u001b[38;5;241;43m.\u001b[39;49m\u001b[43m_cmysql\u001b[49m\u001b[38;5;241;43m.\u001b[39;49m\u001b[43mconvert_to_mysql\u001b[49m\u001b[43m(\u001b[49m\u001b[38;5;241;43m*\u001b[39;49m\u001b[43mparams\u001b[49m\u001b[43m)\u001b[49m\n\u001b[0;32m    831\u001b[0m \u001b[38;5;28;01melif\u001b[39;00m \u001b[38;5;28misinstance\u001b[39m(params, \u001b[38;5;28mdict\u001b[39m):\n\u001b[0;32m    832\u001b[0m     result \u001b[38;5;241m=\u001b[39m {}\n",
      "\u001b[1;31mMySQLInterfaceError\u001b[0m: Python type list cannot be converted"
     ]
    }
   ],
   "source": [
    "yr = 2024\n",
    "records = end_of_year(connection)\n",
    "diff = difference_year(yr, records)\n",
    "res = insurance_cost(connection, diff)\n",
    "print(res)"
   ]
  },
  {
   "cell_type": "code",
   "execution_count": null,
   "id": "615abaa2",
   "metadata": {},
   "outputs": [],
   "source": []
  }
 ],
 "metadata": {
  "kernelspec": {
   "display_name": "Python 3 (ipykernel)",
   "language": "python",
   "name": "python3"
  },
  "language_info": {
   "codemirror_mode": {
    "name": "ipython",
    "version": 3
   },
   "file_extension": ".py",
   "mimetype": "text/x-python",
   "name": "python",
   "nbconvert_exporter": "python",
   "pygments_lexer": "ipython3",
   "version": "3.10.4"
  }
 },
 "nbformat": 4,
 "nbformat_minor": 5
}
