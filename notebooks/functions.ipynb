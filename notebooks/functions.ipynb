{
 "cells": [
  {
   "cell_type": "code",
   "execution_count": 1,
   "id": "7afbc01c",
   "metadata": {},
   "outputs": [
    {
     "name": "stdout",
     "output_type": "stream",
     "text": [
      "Requirement already satisfied: mysql-connector-python in c:\\users\\hjain\\appdata\\local\\programs\\python\\python310\\lib\\site-packages (8.3.0)Note: you may need to restart the kernel to use updated packages.\n",
      "\n"
     ]
    },
    {
     "name": "stderr",
     "output_type": "stream",
     "text": [
      "WARNING: Ignoring invalid distribution -ensorflow-intel (c:\\users\\hjain\\appdata\\local\\programs\\python\\python310\\lib\\site-packages)\n",
      "WARNING: Ignoring invalid distribution -rotobuf (c:\\users\\hjain\\appdata\\local\\programs\\python\\python310\\lib\\site-packages)\n",
      "WARNING: Ignoring invalid distribution -ensorflow-intel (c:\\users\\hjain\\appdata\\local\\programs\\python\\python310\\lib\\site-packages)\n",
      "WARNING: Ignoring invalid distribution -rotobuf (c:\\users\\hjain\\appdata\\local\\programs\\python\\python310\\lib\\site-packages)\n",
      "\n",
      "[notice] A new release of pip is available: 24.0 -> 24.2\n",
      "[notice] To update, run: python.exe -m pip install --upgrade pip\n"
     ]
    }
   ],
   "source": [
    "pip install mysql-connector-python\n"
   ]
  },
  {
   "cell_type": "code",
   "execution_count": 2,
   "id": "42b7f87e",
   "metadata": {},
   "outputs": [
    {
     "name": "stdout",
     "output_type": "stream",
     "text": [
      "Connected to MySQL database\n"
     ]
    }
   ],
   "source": [
    "import mysql.connector\n",
    "\n",
    "def create_connection():\n",
    "    connection = mysql.connector.connect(\n",
    "        host='127.0.0.1',       # Localhost IP address\n",
    "        user='root',            # MySQL username\n",
    "        password='root',  # Replace with your MySQL root password\n",
    "        database='fleet_data'   # Replace with your database name\n",
    "    )\n",
    "    return connection\n",
    "\n",
    "# Example usage\n",
    "connection = create_connection()\n",
    "if connection.is_connected():\n",
    "    print(\"Connected to MySQL database\")\n",
    "connection.close()"
   ]
  },
  {
   "cell_type": "code",
   "execution_count": 3,
   "id": "583db287",
   "metadata": {},
   "outputs": [],
   "source": [
    "def check_sum_cost_by_id(connection,year):\n",
    "    cursor = connection.cursor()\n",
    "    query = \"\"\"\n",
    "    SELECT ID, SUM(`Cost ($)`) \n",
    "    FROM vehicles \n",
    "    WHERE Year = %s\n",
    "    GROUP BY ID\n",
    "    \"\"\"\n",
    "\n",
    "    cursor.execute(query, (year,))\n",
    "    records = cursor.fetchall()\n",
    "    return records\n"
   ]
  },
  {
   "cell_type": "code",
   "execution_count": 5,
   "id": "de7b59e4",
   "metadata": {},
   "outputs": [
    {
     "name": "stdout",
     "output_type": "stream",
     "text": [
      "Connected to MySQL database\n",
      "ID: BEV_S1_2024, Total Cost: $177650.00\n",
      "ID: BEV_S2_2024, Total Cost: $258400.00\n",
      "ID: BEV_S4_2024, Total Cost: $375854.00\n",
      "ID: BEV_S3_2024, Total Cost: $293636.00\n",
      "ID: Diesel_S1_2024, Total Cost: $87550.00\n",
      "ID: Diesel_S2_2024, Total Cost: $107120.00\n",
      "ID: Diesel_S4_2024, Total Cost: $155810.00\n",
      "ID: Diesel_S3_2024, Total Cost: $121727.00\n",
      "ID: LNG_S1_2024, Total Cost: $103000.00\n",
      "ID: LNG_S2_2024, Total Cost: $136990.00\n",
      "ID: LNG_S4_2024, Total Cost: $199258.00\n",
      "ID: LNG_S3_2024, Total Cost: $155670.00\n"
     ]
    }
   ],
   "source": [
    "connection = create_connection()\n",
    "if connection.is_connected():\n",
    "    print(\"Connected to MySQL database\")\n",
    "\n",
    "    year = 2024 \n",
    "    records = check_sum_cost_by_id(connection, year)\n",
    "    for record in records:\n",
    "        print(f\"ID: {record[0]}, Total Cost: ${record[1]:.2f}\")\n",
    "\n",
    "    connection.close()\n",
    "else:\n",
    "    print(\"Failed to connect to MySQL database\")"
   ]
  },
  {
   "cell_type": "code",
   "execution_count": 56,
   "id": "157ba4ae",
   "metadata": {},
   "outputs": [],
   "source": [
    "def insurance_cost_per_year(connection,year,Id):\n",
    "    cursor = connection.cursor()\n",
    "    query = \"\"\"\n",
    "    SELECT SUM(`Cost ($)`) \n",
    "    FROM vehicles \n",
    "    WHERE Year = %s and ID = %s\n",
    "    GROUP BY Year\n",
    "    \"\"\"\n",
    "    cursor.execute(query, (year,Id))\n",
    "    records = cursor.fetchall()\n",
    "    return records\n",
    "    "
   ]
  },
  {
   "cell_type": "code",
   "execution_count": 59,
   "id": "d3e327fb",
   "metadata": {},
   "outputs": [],
   "source": [
    "year = 2024\n",
    "Id = 'BEV_S1_2024'\n",
    "total_cost = insurance_cost_per_year(connection,year,Id)"
   ]
  },
  {
   "cell_type": "code",
   "execution_count": 7,
   "id": "8a14a14f",
   "metadata": {},
   "outputs": [],
   "source": [
    "def end_of_year(connection):\n",
    "    cursor = connection.cursor()\n",
    "    query = \"\"\"\n",
    "    SELECT Year from vehicles\n",
    "    \"\"\"\n",
    "    cursor.execute(query)\n",
    "    records = cursor.fetchall()\n",
    "    return records\n"
   ]
  },
  {
   "cell_type": "code",
   "execution_count": 62,
   "id": "26e5b6b0",
   "metadata": {
    "scrolled": true
   },
   "outputs": [],
   "source": [
    "output_years = end_of_year(connection)"
   ]
  },
  {
   "cell_type": "code",
   "execution_count": 63,
   "id": "6571f091",
   "metadata": {},
   "outputs": [],
   "source": [
    "input_year = output_years[0][0]"
   ]
  },
  {
   "cell_type": "code",
   "execution_count": 64,
   "id": "7edbcbc5",
   "metadata": {},
   "outputs": [
    {
     "name": "stdout",
     "output_type": "stream",
     "text": [
      "2023\n"
     ]
    }
   ],
   "source": [
    "print(c)"
   ]
  },
  {
   "cell_type": "code",
   "execution_count": 76,
   "id": "6860372c",
   "metadata": {},
   "outputs": [],
   "source": [
    "def difference_year1(yr,input_year):\n",
    "    diff = abs(input_year - yr)\n",
    "    return diff"
   ]
  },
  {
   "cell_type": "code",
   "execution_count": 80,
   "id": "4a5e29f1",
   "metadata": {},
   "outputs": [
    {
     "name": "stdout",
     "output_type": "stream",
     "text": [
      "1\n"
     ]
    }
   ],
   "source": [
    "yr = 2024\n",
    "print(difference_year1(yr,input_year))"
   ]
  },
  {
   "cell_type": "code",
   "execution_count": 25,
   "id": "0455eb3a",
   "metadata": {},
   "outputs": [],
   "source": [
    "def difference_year(yr,records):\n",
    "    diff = []\n",
    "    for i in range(len(records)):\n",
    "        diff.append(abs(records[i][0] - yr))\n",
    "    return diff"
   ]
  },
  {
   "cell_type": "code",
   "execution_count": 26,
   "id": "1e874ac4",
   "metadata": {},
   "outputs": [
    {
     "name": "stdout",
     "output_type": "stream",
     "text": [
      "[1, 0, 1, 2, 3, 4, 5, 6, 7, 8, 9, 10, 11, 12, 13, 14, 1, 0, 1, 2, 3, 4, 5, 6, 7, 8, 9, 10, 11, 12, 13, 14, 1, 0, 1, 2, 3, 4, 5, 6, 7, 8, 9, 10, 11, 12, 13, 14, 1, 0, 1, 2, 3, 4, 5, 6, 7, 8, 9, 10, 11, 12, 13, 14, 1, 0, 1, 2, 3, 4, 5, 6, 7, 8, 9, 10, 11, 12, 13, 14, 1, 0, 1, 2, 3, 4, 5, 6, 7, 8, 9, 10, 11, 12, 13, 14, 1, 0, 1, 2, 3, 4, 5, 6, 7, 8, 9, 10, 11, 12, 13, 14, 1, 0, 1, 2, 3, 4, 5, 6, 7, 8, 9, 10, 11, 12, 13, 14, 1, 0, 1, 2, 3, 4, 5, 6, 7, 8, 9, 10, 11, 12, 13, 14, 1, 0, 1, 2, 3, 4, 5, 6, 7, 8, 9, 10, 11, 12, 13, 14, 1, 0, 1, 2, 3, 4, 5, 6, 7, 8, 9, 10, 11, 12, 13, 14, 1, 0, 1, 2, 3, 4, 5, 6, 7, 8, 9, 10, 11, 12, 13, 14]\n"
     ]
    }
   ],
   "source": [
    "yr = 2024\n",
    "print(difference_year(yr,records))"
   ]
  },
  {
   "cell_type": "code",
   "execution_count": 81,
   "id": "de0f8273",
   "metadata": {},
   "outputs": [],
   "source": [
    "def insurance_cost(connection, diff):\n",
    "    cursor = connection.cursor()\n",
    "    insurance_records = []\n",
    "    for year_diff in diff:\n",
    "        query = \"\"\"\n",
    "        SELECT `Insurance Cost %`\n",
    "        FROM cost_profiles\n",
    "        WHERE `End of Year` = %s\n",
    "        \"\"\"\n",
    "        cursor.execute(query, (year_diff,))\n",
    "        records = cursor.fetchall()\n",
    "        insurance_records.extend(records)\n",
    "    return insurance_records\n"
   ]
  },
  {
   "cell_type": "code",
   "execution_count": 82,
   "id": "3dfa5d1d",
   "metadata": {},
   "outputs": [
    {
     "ename": "TypeError",
     "evalue": "unsupported operand type(s) for -: 'list' and 'int'",
     "output_type": "error",
     "traceback": [
      "\u001b[1;31m---------------------------------------------------------------------------\u001b[0m",
      "\u001b[1;31mTypeError\u001b[0m                                 Traceback (most recent call last)",
      "Cell \u001b[1;32mIn[82], line 1\u001b[0m\n\u001b[1;32m----> 1\u001b[0m diff \u001b[38;5;241m=\u001b[39m \u001b[43mdifference_year\u001b[49m\u001b[43m(\u001b[49m\u001b[38;5;241;43m2024\u001b[39;49m\u001b[43m,\u001b[49m\u001b[43m \u001b[49m\u001b[43mrecords\u001b[49m\u001b[43m)\u001b[49m\n\u001b[0;32m      2\u001b[0m insurance_costs \u001b[38;5;241m=\u001b[39m insurance_cost(connection, diff)\n\u001b[0;32m      3\u001b[0m \u001b[38;5;28mprint\u001b[39m(insurance_costs)\n",
      "Cell \u001b[1;32mIn[71], line 2\u001b[0m, in \u001b[0;36mdifference_year\u001b[1;34m(yr, input_year)\u001b[0m\n\u001b[0;32m      1\u001b[0m \u001b[38;5;28;01mdef\u001b[39;00m \u001b[38;5;21mdifference_year\u001b[39m(yr,input_year):\n\u001b[1;32m----> 2\u001b[0m     diff\u001b[38;5;241m.\u001b[39mappend(\u001b[38;5;28mabs\u001b[39m(\u001b[43minput_year\u001b[49m\u001b[43m \u001b[49m\u001b[38;5;241;43m-\u001b[39;49m\u001b[43m \u001b[49m\u001b[43myr\u001b[49m))\n\u001b[0;32m      3\u001b[0m     \u001b[38;5;28;01mreturn\u001b[39;00m diff\n",
      "\u001b[1;31mTypeError\u001b[0m: unsupported operand type(s) for -: 'list' and 'int'"
     ]
    }
   ],
   "source": [
    "diff = difference_year(2024, records)\n",
    "insurance_costs = insurance_cost(connection, diff)\n",
    "print(insurance_costs)\n"
   ]
  },
  {
   "cell_type": "code",
   "execution_count": 60,
   "id": "0d05556b",
   "metadata": {},
   "outputs": [
    {
     "name": "stdout",
     "output_type": "stream",
     "text": [
      "[8882.5, 8882.5, 10659.0, 12435.500000000002, 14212.0, 15988.5, 17765.0, 19541.5, 21318.0, 23094.5, 24871.000000000004, 8882.5, 8882.5, 10659.0, 12435.500000000002, 14212.0, 15988.5, 17765.0, 19541.5, 21318.0, 23094.5, 24871.000000000004, 8882.5, 8882.5, 10659.0, 12435.500000000002, 14212.0, 15988.5, 17765.0, 19541.5, 21318.0, 23094.5, 24871.000000000004, 8882.5, 8882.5, 10659.0, 12435.500000000002, 14212.0, 15988.5, 17765.0, 19541.5, 21318.0, 23094.5, 24871.000000000004, 8882.5, 8882.5, 10659.0, 12435.500000000002, 14212.0, 15988.5, 17765.0, 19541.5, 21318.0, 23094.5, 24871.000000000004, 8882.5, 8882.5, 10659.0, 12435.500000000002, 14212.0, 15988.5, 17765.0, 19541.5, 21318.0, 23094.5, 24871.000000000004, 8882.5, 8882.5, 10659.0, 12435.500000000002, 14212.0, 15988.5, 17765.0, 19541.5, 21318.0, 23094.5, 24871.000000000004, 8882.5, 8882.5, 10659.0, 12435.500000000002, 14212.0, 15988.5, 17765.0, 19541.5, 21318.0, 23094.5, 24871.000000000004, 8882.5, 8882.5, 10659.0, 12435.500000000002, 14212.0, 15988.5, 17765.0, 19541.5, 21318.0, 23094.5, 24871.000000000004, 8882.5, 8882.5, 10659.0, 12435.500000000002, 14212.0, 15988.5, 17765.0, 19541.5, 21318.0, 23094.5, 24871.000000000004, 8882.5, 8882.5, 10659.0, 12435.500000000002, 14212.0, 15988.5, 17765.0, 19541.5, 21318.0, 23094.5, 24871.000000000004, 8882.5, 8882.5, 10659.0, 12435.500000000002, 14212.0, 15988.5, 17765.0, 19541.5, 21318.0, 23094.5, 24871.000000000004]\n"
     ]
    }
   ],
   "source": [
    "total_cost_value = total_cost[0][0]\n",
    "insurance_cost_values = [(record[0]/100) for record in insurance_costs]\n",
    "final_values = [total_cost_value * insurance_cost for insurance_cost in insurance_cost_values]\n",
    "print(final_values)"
   ]
  },
  {
   "cell_type": "code",
   "execution_count": 61,
   "id": "4e3ca4eb",
   "metadata": {},
   "outputs": [
    {
     "data": {
      "text/plain": [
       "177650.0"
      ]
     },
     "execution_count": 61,
     "metadata": {},
     "output_type": "execute_result"
    }
   ],
   "source": [
    "total_cost_value"
   ]
  },
  {
   "cell_type": "code",
   "execution_count": null,
   "id": "92290e1b",
   "metadata": {},
   "outputs": [],
   "source": []
  }
 ],
 "metadata": {
  "kernelspec": {
   "display_name": "Python 3 (ipykernel)",
   "language": "python",
   "name": "python3"
  },
  "language_info": {
   "codemirror_mode": {
    "name": "ipython",
    "version": 3
   },
   "file_extension": ".py",
   "mimetype": "text/x-python",
   "name": "python",
   "nbconvert_exporter": "python",
   "pygments_lexer": "ipython3",
   "version": "3.10.4"
  }
 },
 "nbformat": 4,
 "nbformat_minor": 5
}
